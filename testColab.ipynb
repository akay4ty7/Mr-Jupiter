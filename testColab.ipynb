{
  "nbformat": 4,
  "nbformat_minor": 0,
  "metadata": {
    "colab": {
      "provenance": [],
      "authorship_tag": "ABX9TyM3Sky6fl4J9JvhtANs/3W6",
      "include_colab_link": true
    },
    "kernelspec": {
      "name": "python3",
      "display_name": "Python 3"
    },
    "language_info": {
      "name": "python"
    }
  },
  "cells": [
    {
      "cell_type": "markdown",
      "metadata": {
        "id": "view-in-github",
        "colab_type": "text"
      },
      "source": [
        "<a href=\"https://colab.research.google.com/github/akay4ty7/Mr-Jupiter/blob/master/testColab.ipynb\" target=\"_parent\"><img src=\"https://colab.research.google.com/assets/colab-badge.svg\" alt=\"Open In Colab\"/></a>"
      ]
    },
    {
      "cell_type": "code",
      "execution_count": 6,
      "metadata": {
        "colab": {
          "base_uri": "https://localhost:8080/"
        },
        "id": "Ns8b83nYM7KN",
        "outputId": "9693a930-717f-4ff8-d7ae-e6aba59c72b8"
      },
      "outputs": [
        {
          "output_type": "stream",
          "name": "stdout",
          "text": [
            "Drive already mounted at /content/drive; to attempt to forcibly remount, call drive.mount(\"/content/drive\", force_remount=True).\n",
            "/content/drive/MyDrive/Code Cleaning Work\n",
            "Reading package lists... Done\n",
            "Building dependency tree       \n",
            "Reading state information... Done\n",
            "git is already the newest version (1:2.25.1-1ubuntu3.8).\n",
            "The following package was automatically installed and is no longer required:\n",
            "  libnvidia-common-510\n",
            "Use 'apt autoremove' to remove it.\n",
            "0 upgraded, 0 newly installed, 0 to remove and 21 not upgraded.\n",
            "Reinitialized existing Git repository in /content/drive/MyDrive/Code Cleaning Work/.git/\n",
            "On branch master\n",
            "Untracked files:\n",
            "  (use \"git add <file>...\" to include in what will be committed)\n",
            "\t\u001b[31mCopy of Applebintop_ssd_eva_colabnew_TF1.ipynb\u001b[m\n",
            "\n",
            "nothing added to commit but untracked files present (use \"git add\" to track)\n",
            "filter.lfs.smudge=git-lfs smudge -- %f\n",
            "filter.lfs.process=git-lfs filter-process\n",
            "filter.lfs.required=true\n",
            "filter.lfs.clean=git-lfs clean -- %f\n",
            "user.email=koo.kookooshan@gmail.com\n",
            "user.name=akay4ty7\n",
            "core.repositoryformatversion=0\n",
            "core.filemode=true\n",
            "core.bare=false\n",
            "core.logallrefupdates=true\n",
            "remote.origin.url=https://github.com/akay4ty7/colab_integration_test.git\n",
            "remote.origin.fetch=+refs/heads/*:refs/remotes/origin/*\n",
            "fatal: could not read Username for 'https://github.com': No such device or address\n"
          ]
        }
      ],
      "source": [
        "# This is a test for integrating github and google colab\n",
        "\n",
        "from google.colab import drive\n",
        "drive.mount('/content/drive')\n",
        "\n",
        "%cd /content/drive/MyDrive/Code Cleaning Work/\n",
        "\n",
        "!apt-get install git -y\n",
        "\n"
      ]
    },
    {
      "cell_type": "code",
      "source": [
        "# testing code\n",
        "\n",
        "print(\"Hello World!\")\n",
        "\n",
        "!git config --global user.email \"koo.kookooshan@gmail.com\"\n",
        "!git config --global user.name \"akay4ty7\"\n",
        "\n",
        "!git init\n",
        "\n",
        "!git add testColab.ipynb\n",
        "\n",
        "!git commit -m \"First test commit\"\n",
        "\n",
        "!git push -u origin master\n"
      ],
      "metadata": {
        "colab": {
          "base_uri": "https://localhost:8080/"
        },
        "id": "2tbIw3cMRHL4",
        "outputId": "7ab77b2c-9b5f-4e56-e3bb-6bbc424f5d14"
      },
      "execution_count": 8,
      "outputs": [
        {
          "output_type": "stream",
          "name": "stdout",
          "text": [
            "Hello World!\n",
            "Reinitialized existing Git repository in /content/drive/MyDrive/Code Cleaning Work/.git/\n",
            "[master 71da80a] First test commit\n",
            " 1 file changed, 1 insertion(+), 1 deletion(-)\n",
            "fatal: could not read Username for 'https://github.com': No such device or address\n"
          ]
        }
      ]
    }
  ]
}